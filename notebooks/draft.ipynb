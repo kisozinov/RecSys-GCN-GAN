{
 "cells": [
  {
   "cell_type": "code",
   "execution_count": 1,
   "metadata": {},
   "outputs": [],
   "source": [
    "import pandas as pd\n",
    "import numpy as np\n",
    "from sklearn.model_selection import train_test_split\n",
    "import scipy\n",
    "from scipy import sparse"
   ]
  },
  {
   "cell_type": "code",
   "execution_count": 2,
   "metadata": {},
   "outputs": [
    {
     "name": "stderr",
     "output_type": "stream",
     "text": [
      "c:\\Users\\ciril\\anaconda3\\lib\\site-packages\\pandas\\util\\_decorators.py:311: ParserWarning: Falling back to the 'python' engine because the 'c' engine does not support regex separators (separators > 1 char and different from '\\s+' are interpreted as regex); you can avoid this warning by specifying engine='python'.\n",
      "  return func(*args, **kwargs)\n"
     ]
    }
   ],
   "source": [
    "df = pd.read_csv('../data/raw/ml-10M100K/ratings.dat', \n",
    "                sep='::',  usecols=[0,1,2,3], \n",
    "                names=['user', 'movie', 'rating', 'timestamp'])\n",
    "\n",
    "df['timestamp'] = pd.to_datetime(df['timestamp'], unit='s')\n",
    "df.sort_values(by='timestamp', inplace=True)\n",
    "df.drop(['timestamp'], axis=1, inplace=True)\n",
    "df = df.pivot(index='user', columns='movie', values='rating').fillna(0)\n",
    "data = sparse.coo_matrix(df)\n"
   ]
  },
  {
   "cell_type": "code",
   "execution_count": 3,
   "metadata": {},
   "outputs": [],
   "source": [
    "df = pd.read_csv('../data/raw/ml-10M100K/ratings.dat', \n",
    "                sep='::',  usecols=[0,1,2,3], \n",
    "                names=['user', 'movie', 'rating', 'timestamp'])\n"
   ]
  },
  {
   "cell_type": "code",
   "execution_count": 72,
   "metadata": {},
   "outputs": [
    {
     "data": {
      "text/html": [
       "<div>\n",
       "<style scoped>\n",
       "    .dataframe tbody tr th:only-of-type {\n",
       "        vertical-align: middle;\n",
       "    }\n",
       "\n",
       "    .dataframe tbody tr th {\n",
       "        vertical-align: top;\n",
       "    }\n",
       "\n",
       "    .dataframe thead th {\n",
       "        text-align: right;\n",
       "    }\n",
       "</style>\n",
       "<table border=\"1\" class=\"dataframe\">\n",
       "  <thead>\n",
       "    <tr style=\"text-align: right;\">\n",
       "      <th></th>\n",
       "      <th>user</th>\n",
       "      <th>movie</th>\n",
       "      <th>rating</th>\n",
       "      <th>timestamp</th>\n",
       "      <th>is_valid</th>\n",
       "    </tr>\n",
       "  </thead>\n",
       "  <tbody>\n",
       "    <tr>\n",
       "      <th>0</th>\n",
       "      <td>1</td>\n",
       "      <td>122</td>\n",
       "      <td>5.0</td>\n",
       "      <td>838985046</td>\n",
       "      <td>True</td>\n",
       "    </tr>\n",
       "    <tr>\n",
       "      <th>1</th>\n",
       "      <td>1</td>\n",
       "      <td>185</td>\n",
       "      <td>5.0</td>\n",
       "      <td>838983525</td>\n",
       "      <td>False</td>\n",
       "    </tr>\n",
       "    <tr>\n",
       "      <th>2</th>\n",
       "      <td>1</td>\n",
       "      <td>231</td>\n",
       "      <td>5.0</td>\n",
       "      <td>838983392</td>\n",
       "      <td>False</td>\n",
       "    </tr>\n",
       "    <tr>\n",
       "      <th>3</th>\n",
       "      <td>1</td>\n",
       "      <td>292</td>\n",
       "      <td>5.0</td>\n",
       "      <td>838983421</td>\n",
       "      <td>False</td>\n",
       "    </tr>\n",
       "    <tr>\n",
       "      <th>4</th>\n",
       "      <td>1</td>\n",
       "      <td>316</td>\n",
       "      <td>5.0</td>\n",
       "      <td>838983392</td>\n",
       "      <td>False</td>\n",
       "    </tr>\n",
       "    <tr>\n",
       "      <th>...</th>\n",
       "      <td>...</td>\n",
       "      <td>...</td>\n",
       "      <td>...</td>\n",
       "      <td>...</td>\n",
       "      <td>...</td>\n",
       "    </tr>\n",
       "    <tr>\n",
       "      <th>10000049</th>\n",
       "      <td>71567</td>\n",
       "      <td>2107</td>\n",
       "      <td>1.0</td>\n",
       "      <td>912580553</td>\n",
       "      <td>False</td>\n",
       "    </tr>\n",
       "    <tr>\n",
       "      <th>10000050</th>\n",
       "      <td>71567</td>\n",
       "      <td>2126</td>\n",
       "      <td>2.0</td>\n",
       "      <td>912649143</td>\n",
       "      <td>False</td>\n",
       "    </tr>\n",
       "    <tr>\n",
       "      <th>10000051</th>\n",
       "      <td>71567</td>\n",
       "      <td>2294</td>\n",
       "      <td>5.0</td>\n",
       "      <td>912577968</td>\n",
       "      <td>False</td>\n",
       "    </tr>\n",
       "    <tr>\n",
       "      <th>10000052</th>\n",
       "      <td>71567</td>\n",
       "      <td>2338</td>\n",
       "      <td>2.0</td>\n",
       "      <td>912578016</td>\n",
       "      <td>False</td>\n",
       "    </tr>\n",
       "    <tr>\n",
       "      <th>10000053</th>\n",
       "      <td>71567</td>\n",
       "      <td>2384</td>\n",
       "      <td>2.0</td>\n",
       "      <td>912578173</td>\n",
       "      <td>False</td>\n",
       "    </tr>\n",
       "  </tbody>\n",
       "</table>\n",
       "<p>10000054 rows × 5 columns</p>\n",
       "</div>"
      ],
      "text/plain": [
       "           user  movie  rating  timestamp  is_valid\n",
       "0             1    122     5.0  838985046      True\n",
       "1             1    185     5.0  838983525     False\n",
       "2             1    231     5.0  838983392     False\n",
       "3             1    292     5.0  838983421     False\n",
       "4             1    316     5.0  838983392     False\n",
       "...         ...    ...     ...        ...       ...\n",
       "10000049  71567   2107     1.0  912580553     False\n",
       "10000050  71567   2126     2.0  912649143     False\n",
       "10000051  71567   2294     5.0  912577968     False\n",
       "10000052  71567   2338     2.0  912578016     False\n",
       "10000053  71567   2384     2.0  912578173     False\n",
       "\n",
       "[10000054 rows x 5 columns]"
      ]
     },
     "execution_count": 72,
     "metadata": {},
     "output_type": "execute_result"
    }
   ],
   "source": [
    "df"
   ]
  },
  {
   "cell_type": "code",
   "execution_count": 109,
   "metadata": {},
   "outputs": [],
   "source": [
    "def get_last_n_ratings_by_user(df, n):\n",
    "    new_df = df.groupby('user').filter(lambda x: len(x) >= n).sort_values('timestamp').groupby('user').tail(n).sort_values('user') #use rank()\n",
    "    return new_df\n",
    "    \n",
    "def mark_last_n_ratings_as_validation_set(\n",
    "    df, n):\n",
    "    df[\"is_valid\"] = False\n",
    "    df.loc[\n",
    "        get_last_n_ratings_by_user(df, n).index,\n",
    "        \"is_valid\",\n",
    "    ] = True\n",
    "    return df\n",
    "new_df = mark_last_n_ratings_as_validation_set(df, 5)"
   ]
  },
  {
   "cell_type": "code",
   "execution_count": 110,
   "metadata": {},
   "outputs": [
    {
     "data": {
      "text/plain": [
       "10677"
      ]
     },
     "execution_count": 110,
     "metadata": {},
     "output_type": "execute_result"
    }
   ],
   "source": [
    "df.movie.nunique()"
   ]
  },
  {
   "cell_type": "code",
   "execution_count": 111,
   "metadata": {},
   "outputs": [],
   "source": [
    "from sklearn import preprocessing\n",
    "le_users = preprocessing.LabelEncoder()\n",
    "le_movies = preprocessing.LabelEncoder()\n",
    "le_users = le_users.fit(new_df.user)\n",
    "le_movies = le_movies.fit(new_df.movie)"
   ]
  },
  {
   "cell_type": "code",
   "execution_count": 112,
   "metadata": {},
   "outputs": [
    {
     "name": "stderr",
     "output_type": "stream",
     "text": [
      "c:\\Users\\ciril\\anaconda3\\lib\\site-packages\\pandas\\core\\generic.py:5516: SettingWithCopyWarning: \n",
      "A value is trying to be set on a copy of a slice from a DataFrame.\n",
      "Try using .loc[row_indexer,col_indexer] = value instead\n",
      "\n",
      "See the caveats in the documentation: https://pandas.pydata.org/pandas-docs/stable/user_guide/indexing.html#returning-a-view-versus-a-copy\n",
      "  self[name] = value\n"
     ]
    }
   ],
   "source": [
    "train_df = new_df[new_df.is_valid==False]\n",
    "train_df.user = le_users.transform(train_df.user)\n",
    "train_df.movie = le_movies.transform(train_df.movie)\n",
    "train_df = train_df.sort_values('user')\n",
    "\n",
    "valid_df = new_df[new_df.is_valid==True]\n",
    "valid_df.user = le_users.transform(valid_df.user)\n",
    "valid_df.movie = le_movies.transform(valid_df.movie)\n",
    "valid_df = valid_df.sort_values('user')"
   ]
  },
  {
   "cell_type": "code",
   "execution_count": 113,
   "metadata": {},
   "outputs": [
    {
     "data": {
      "text/html": [
       "<div>\n",
       "<style scoped>\n",
       "    .dataframe tbody tr th:only-of-type {\n",
       "        vertical-align: middle;\n",
       "    }\n",
       "\n",
       "    .dataframe tbody tr th {\n",
       "        vertical-align: top;\n",
       "    }\n",
       "\n",
       "    .dataframe thead th {\n",
       "        text-align: right;\n",
       "    }\n",
       "</style>\n",
       "<table border=\"1\" class=\"dataframe\">\n",
       "  <thead>\n",
       "    <tr style=\"text-align: right;\">\n",
       "      <th></th>\n",
       "      <th>user</th>\n",
       "      <th>movie</th>\n",
       "      <th>rating</th>\n",
       "      <th>timestamp</th>\n",
       "      <th>is_valid</th>\n",
       "    </tr>\n",
       "  </thead>\n",
       "  <tbody>\n",
       "    <tr>\n",
       "      <th>0</th>\n",
       "      <td>0</td>\n",
       "      <td>120</td>\n",
       "      <td>5.0</td>\n",
       "      <td>838985046</td>\n",
       "      <td>True</td>\n",
       "    </tr>\n",
       "    <tr>\n",
       "      <th>8</th>\n",
       "      <td>0</td>\n",
       "      <td>358</td>\n",
       "      <td>5.0</td>\n",
       "      <td>838984885</td>\n",
       "      <td>True</td>\n",
       "    </tr>\n",
       "    <tr>\n",
       "      <th>13</th>\n",
       "      <td>0</td>\n",
       "      <td>462</td>\n",
       "      <td>5.0</td>\n",
       "      <td>838984679</td>\n",
       "      <td>True</td>\n",
       "    </tr>\n",
       "    <tr>\n",
       "      <th>15</th>\n",
       "      <td>0</td>\n",
       "      <td>516</td>\n",
       "      <td>5.0</td>\n",
       "      <td>838984679</td>\n",
       "      <td>True</td>\n",
       "    </tr>\n",
       "    <tr>\n",
       "      <th>21</th>\n",
       "      <td>0</td>\n",
       "      <td>610</td>\n",
       "      <td>5.0</td>\n",
       "      <td>838984941</td>\n",
       "      <td>True</td>\n",
       "    </tr>\n",
       "    <tr>\n",
       "      <th>...</th>\n",
       "      <td>...</td>\n",
       "      <td>...</td>\n",
       "      <td>...</td>\n",
       "      <td>...</td>\n",
       "      <td>...</td>\n",
       "    </tr>\n",
       "    <tr>\n",
       "      <th>10000032</th>\n",
       "      <td>69877</td>\n",
       "      <td>1661</td>\n",
       "      <td>4.0</td>\n",
       "      <td>912649271</td>\n",
       "      <td>True</td>\n",
       "    </tr>\n",
       "    <tr>\n",
       "      <th>10000005</th>\n",
       "      <td>69877</td>\n",
       "      <td>257</td>\n",
       "      <td>5.0</td>\n",
       "      <td>912649271</td>\n",
       "      <td>True</td>\n",
       "    </tr>\n",
       "    <tr>\n",
       "      <th>10000014</th>\n",
       "      <td>69877</td>\n",
       "      <td>881</td>\n",
       "      <td>4.0</td>\n",
       "      <td>912649403</td>\n",
       "      <td>True</td>\n",
       "    </tr>\n",
       "    <tr>\n",
       "      <th>10000017</th>\n",
       "      <td>69877</td>\n",
       "      <td>1171</td>\n",
       "      <td>4.0</td>\n",
       "      <td>912649434</td>\n",
       "      <td>True</td>\n",
       "    </tr>\n",
       "    <tr>\n",
       "      <th>10000037</th>\n",
       "      <td>69877</td>\n",
       "      <td>1752</td>\n",
       "      <td>3.0</td>\n",
       "      <td>912649171</td>\n",
       "      <td>True</td>\n",
       "    </tr>\n",
       "  </tbody>\n",
       "</table>\n",
       "<p>349390 rows × 5 columns</p>\n",
       "</div>"
      ],
      "text/plain": [
       "           user  movie  rating  timestamp  is_valid\n",
       "0             0    120     5.0  838985046      True\n",
       "8             0    358     5.0  838984885      True\n",
       "13            0    462     5.0  838984679      True\n",
       "15            0    516     5.0  838984679      True\n",
       "21            0    610     5.0  838984941      True\n",
       "...         ...    ...     ...        ...       ...\n",
       "10000032  69877   1661     4.0  912649271      True\n",
       "10000005  69877    257     5.0  912649271      True\n",
       "10000014  69877    881     4.0  912649403      True\n",
       "10000017  69877   1171     4.0  912649434      True\n",
       "10000037  69877   1752     3.0  912649171      True\n",
       "\n",
       "[349390 rows x 5 columns]"
      ]
     },
     "execution_count": 113,
     "metadata": {},
     "output_type": "execute_result"
    }
   ],
   "source": [
    "valid_df"
   ]
  },
  {
   "cell_type": "code",
   "execution_count": 114,
   "metadata": {},
   "outputs": [
    {
     "data": {
      "text/plain": [
       "<69878x10677 sparse matrix of type '<class 'numpy.float64'>'\n",
       "\twith 9650664 stored elements in COOrdinate format>"
      ]
     },
     "execution_count": 114,
     "metadata": {},
     "output_type": "execute_result"
    }
   ],
   "source": [
    "trs = sparse.coo_matrix((train_df['rating'], (train_df['user'], train_df['movie'])),\n",
    " shape=(train_df.user.max()+1, train_df.movie.max()+1)) # use label_encoder\n",
    "trs"
   ]
  },
  {
   "cell_type": "code",
   "execution_count": 115,
   "metadata": {},
   "outputs": [
    {
     "data": {
      "text/plain": [
       "<69878x10677 sparse matrix of type '<class 'numpy.float64'>'\n",
       "\twith 349390 stored elements in COOrdinate format>"
      ]
     },
     "execution_count": 115,
     "metadata": {},
     "output_type": "execute_result"
    }
   ],
   "source": [
    "tss = sparse.coo_matrix((valid_df['rating'], (valid_df['user'], valid_df['movie'])),\n",
    " shape=(valid_df.user.max()+1, valid_df.movie.max()+1)) # use label_encoder\n",
    "tss"
   ]
  },
  {
   "cell_type": "code",
   "execution_count": 24,
   "metadata": {},
   "outputs": [],
   "source": [
    "sparse.save_npz(\"../data/interim/train.npz\", trs)\n",
    "sparse.save_npz(\"../data/interim/test.npz\", tss)"
   ]
  },
  {
   "cell_type": "code",
   "execution_count": 18,
   "metadata": {},
   "outputs": [],
   "source": [
    "#train_df = train_df.pivot(index='user', columns='movie', values='rating').fillna(0)\n",
    "#valid_df = valid_df.pivot(index='user', columns='movie', values='rating').fillna(0)"
   ]
  },
  {
   "cell_type": "code",
   "execution_count": 125,
   "metadata": {},
   "outputs": [
    {
     "name": "stdout",
     "output_type": "stream",
     "text": [
      "  (0, 120)\t5.0\n",
      "  (0, 358)\t5.0\n",
      "  (0, 462)\t5.0\n",
      "  (0, 516)\t5.0\n",
      "  (0, 610)\t5.0\n",
      "  (1, 149)\t3.0\n",
      "  (1, 535)\t3.0\n",
      "  (1, 707)\t3.0\n",
      "  (1, 1360)\t3.0\n",
      "  (1, 1494)\t3.0\n",
      "  (2, 9124)\t3.5\n",
      "  (2, 7041)\t3.5\n",
      "  (2, 3322)\t4.0\n",
      "  (2, 5203)\t3.0\n",
      "  (2, 5431)\t4.5\n",
      "  (3, 38)\t3.0\n",
      "  (3, 263)\t5.0\n",
      "  (3, 428)\t3.0\n",
      "  (3, 431)\t3.0\n",
      "  (3, 436)\t3.0\n",
      "  (4, 1271)\t4.0\n",
      "  (4, 1149)\t4.0\n",
      "  (4, 27)\t3.0\n",
      "  (4, 909)\t5.0\n",
      "  (4, 952)\t4.0\n",
      "  :\t:\n",
      "  (69873, 9458)\t4.5\n",
      "  (69873, 5889)\t4.0\n",
      "  (69873, 9117)\t3.5\n",
      "  (69873, 2805)\t3.5\n",
      "  (69873, 4290)\t4.5\n",
      "  (69874, 4228)\t4.0\n",
      "  (69874, 5322)\t4.0\n",
      "  (69874, 5845)\t1.0\n",
      "  (69874, 6118)\t3.5\n",
      "  (69874, 6427)\t4.0\n",
      "  (69875, 3171)\t3.0\n",
      "  (69875, 2544)\t4.0\n",
      "  (69875, 3074)\t5.0\n",
      "  (69875, 653)\t4.0\n",
      "  (69875, 2488)\t5.0\n",
      "  (69876, 110)\t4.0\n",
      "  (69876, 123)\t4.0\n",
      "  (69876, 133)\t3.0\n",
      "  (69876, 229)\t4.0\n",
      "  (69876, 575)\t4.0\n",
      "  (69877, 1661)\t4.0\n",
      "  (69877, 257)\t5.0\n",
      "  (69877, 881)\t4.0\n",
      "  (69877, 1171)\t4.0\n",
      "  (69877, 1752)\t3.0\n"
     ]
    }
   ],
   "source": [
    "print(tss)"
   ]
  },
  {
   "cell_type": "code",
   "execution_count": 127,
   "metadata": {},
   "outputs": [
    {
     "data": {
      "text/plain": [
       "349390"
      ]
     },
     "execution_count": 127,
     "metadata": {},
     "output_type": "execute_result"
    }
   ],
   "source": [
    "len(tss.tocsr().indices)"
   ]
  },
  {
   "cell_type": "code",
   "execution_count": 128,
   "metadata": {},
   "outputs": [],
   "source": [
    "users, items = np.repeat(range(tss.shape[0]), 5), tss.tocsr().indices"
   ]
  },
  {
   "cell_type": "code",
   "execution_count": 135,
   "metadata": {},
   "outputs": [
    {
     "data": {
      "text/plain": [
       "349390"
      ]
     },
     "execution_count": 135,
     "metadata": {},
     "output_type": "execute_result"
    }
   ],
   "source": [
    "tss.tocsr().getnnz()"
   ]
  },
  {
   "cell_type": "code",
   "execution_count": 119,
   "metadata": {},
   "outputs": [
    {
     "name": "stderr",
     "output_type": "stream",
     "text": [
      "Epoch: 100%|██████████| 20/20 [06:31<00:00, 19.57s/it]\n"
     ]
    },
    {
     "data": {
      "text/plain": [
       "<lightfm.lightfm.LightFM at 0x2930296ae20>"
      ]
     },
     "execution_count": 119,
     "metadata": {},
     "output_type": "execute_result"
    }
   ],
   "source": [
    "from lightfm import LightFM\n",
    "model = LightFM(loss='warp')\n",
    "model.fit(trs, epochs=20, num_threads=4, verbose=True)"
   ]
  },
  {
   "cell_type": "code",
   "execution_count": 129,
   "metadata": {},
   "outputs": [
    {
     "data": {
      "text/plain": [
       "array([1.9077792, 2.831175 , 2.9762523, ..., 2.5008078, 1.3352544,\n",
       "       0.5237628], dtype=float32)"
      ]
     },
     "execution_count": 129,
     "metadata": {},
     "output_type": "execute_result"
    }
   ],
   "source": [
    "predictions = model.predict(users, items)\n",
    "predictions"
   ]
  },
  {
   "cell_type": "code",
   "execution_count": 131,
   "metadata": {},
   "outputs": [],
   "source": [
    "from lightfm.evaluation import precision_at_k, recall_at_k\n",
    "\n",
    "test_precision = precision_at_k(model, tss, k=5).mean()"
   ]
  },
  {
   "cell_type": "code",
   "execution_count": 132,
   "metadata": {},
   "outputs": [
    {
     "data": {
      "text/plain": [
       "0.015770342"
      ]
     },
     "execution_count": 132,
     "metadata": {},
     "output_type": "execute_result"
    }
   ],
   "source": [
    "test_precision"
   ]
  },
  {
   "cell_type": "code",
   "execution_count": 5,
   "metadata": {},
   "outputs": [],
   "source": [
    "train_data = sparse.load_npz('../data/processed/train.npz')\n",
    "test_data = sparse.load_npz('../data/processed/test.npz')"
   ]
  },
  {
   "cell_type": "code",
   "execution_count": 26,
   "metadata": {},
   "outputs": [],
   "source": [
    "from lightfm import LightFM\n",
    "#from lightfm.datasets import fetch_movielens\n",
    "from lightfm.evaluation import precision_at_k, recall_at_k\n",
    "\n",
    "# Load the MovieLens 100k dataset. Only five\n",
    "# star ratings are treated as positive.\n",
    " # data = fetch_movielens(min_rating=1.0)\n",
    "# Instantiate and train the model\n",
    "model = LightFM(loss='warp')\n",
    "model.fit(trs, epochs=20, num_threads=4)\n",
    "model.fit(trs, epochs=20)\n",
    "\n",
    "# Evaluate the trained model\n",
    "test_precision = precision_at_k(model, tss, k=5).mean()"
   ]
  },
  {
   "cell_type": "code",
   "execution_count": 28,
   "metadata": {},
   "outputs": [
    {
     "data": {
      "text/plain": [
       "0.3216692"
      ]
     },
     "execution_count": 28,
     "metadata": {},
     "output_type": "execute_result"
    }
   ],
   "source": [
    "test_precision"
   ]
  }
 ],
 "metadata": {
  "kernelspec": {
   "display_name": "base",
   "language": "python",
   "name": "python3"
  },
  "language_info": {
   "codemirror_mode": {
    "name": "ipython",
    "version": 3
   },
   "file_extension": ".py",
   "mimetype": "text/x-python",
   "name": "python",
   "nbconvert_exporter": "python",
   "pygments_lexer": "ipython3",
   "version": "3.9.7"
  },
  "orig_nbformat": 4,
  "vscode": {
   "interpreter": {
    "hash": "d07921fcac9efc71e32baa62f54cc7cc7703180b766de90eef3b067ead514a11"
   }
  }
 },
 "nbformat": 4,
 "nbformat_minor": 2
}
